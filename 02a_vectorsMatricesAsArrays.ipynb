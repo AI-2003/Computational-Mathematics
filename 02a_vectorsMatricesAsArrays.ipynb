{
 "cells": [
  {
   "cell_type": "markdown",
   "id": "0e78ceaf",
   "metadata": {},
   "source": [
    "## Prerequisites:\n",
    "* To see the \"get help notebook\" click: [get Help](00_getHelp.ipynb) \n",
    "\n",
    "\n",
    "\n"
   ]
  },
  {
   "cell_type": "markdown",
   "id": "7c75ec56",
   "metadata": {},
   "source": [
    "# 02a: Operations with vectors and matrices as arrays"
   ]
  },
  {
   "cell_type": "markdown",
   "id": "4033c982",
   "metadata": {},
   "source": [
    "Usamos  arrays  en lugar de  numpy.matrix.\n",
    "##### La razón es:\n",
    "Manual: https://numpy.org/doc/stable/reference/generated/numpy.matrix.html\n",
    "\n",
    "\n",
    "It is <font color='red'>NO</font> longer recommended to use the class (numpy.matrix), even for linear algebra.\n",
    "<br />\n",
    "Instead use regular arrays. The class <font color='red'>may be removed</font> in the future."
   ]
  },
  {
   "cell_type": "code",
   "execution_count": null,
   "id": "52d9174b",
   "metadata": {},
   "outputs": [],
   "source": [
    "import numpy as np"
   ]
  },
  {
   "cell_type": "code",
   "execution_count": null,
   "id": "affa0fcb",
   "metadata": {},
   "outputs": [],
   "source": [
    "# define a variable\n",
    "v = 4"
   ]
  },
  {
   "cell_type": "code",
   "execution_count": null,
   "id": "1b5cb451",
   "metadata": {},
   "outputs": [],
   "source": [
    "# show value of variable v\n",
    "v"
   ]
  },
  {
   "cell_type": "code",
   "execution_count": null,
   "id": "776ac182",
   "metadata": {},
   "outputs": [],
   "source": [
    "# define two matrices and show them\n",
    "A = np.array([[0,2],[3,0]]) # row-by-row\n",
    "B = np.eye(2)\n",
    "A, B"
   ]
  },
  {
   "cell_type": "code",
   "execution_count": null,
   "id": "9d3a69c9",
   "metadata": {},
   "outputs": [],
   "source": [
    "# multiply two matrices (entry by entry)\n",
    "A * B"
   ]
  },
  {
   "cell_type": "code",
   "execution_count": null,
   "id": "5b111c66",
   "metadata": {},
   "outputs": [],
   "source": [
    "# multiply two matrices (as in mathematics)\n",
    "A @ B,  np.dot(A,B)"
   ]
  },
  {
   "cell_type": "code",
   "execution_count": null,
   "id": "6e930405",
   "metadata": {},
   "outputs": [],
   "source": [
    "A[0,:]"
   ]
  },
  {
   "cell_type": "code",
   "execution_count": null,
   "id": "b32a30cf",
   "metadata": {},
   "outputs": [],
   "source": [
    "# define arrays (which can be interpreted as both row and column vectors)\n",
    "v = np.array( [ 1,2 ] )\n",
    "v, v.shape"
   ]
  },
  {
   "cell_type": "code",
   "execution_count": null,
   "id": "77d7cffb",
   "metadata": {},
   "outputs": [],
   "source": [
    "# calculate products  v @ B  and  B @ v\n",
    "# NOTE: NO error because a one-dimensional array is interpreted as both column and row vector\n",
    "v@A, A@v, (A@v).shape"
   ]
  },
  {
   "cell_type": "code",
   "execution_count": null,
   "id": "141bc239",
   "metadata": {},
   "outputs": [],
   "source": [
    "# reproduce mathematical notation and consistency\n",
    "col = np.array( [ [1] , [2] ] ) # un vector columna\n",
    "row = np.array( [[ 1,2 ]] )    # un vector renglon\n",
    "col, row, col.shape, row.shape"
   ]
  },
  {
   "cell_type": "code",
   "execution_count": null,
   "id": "dccfd594",
   "metadata": {},
   "outputs": [],
   "source": [
    "# newaxis (reduce brackets)\n",
    "col = np.array([1,2,3,4])[:,np.newaxis] # un vector columna\n",
    "row = np.array([1,2,3,4])[np.newaxis,:] # un vector renglon\n",
    "\n",
    "col, row"
   ]
  },
  {
   "cell_type": "code",
   "execution_count": null,
   "id": "0f0d1241",
   "metadata": {},
   "outputs": [],
   "source": [
    "col = np.array([[1],[2]]) # un vector columna\n",
    "row = np.array([[1,2]])   # un vector renglon\n",
    "# multiplying matrix * column vector\n",
    "B@col, np.dot(B,col), (B@col).shape"
   ]
  },
  {
   "cell_type": "code",
   "execution_count": null,
   "id": "886516a1",
   "metadata": {},
   "outputs": [],
   "source": [
    "# multiplying  row vector * matrix \n",
    "row@A, np.dot(row, A), (row@A).shape"
   ]
  },
  {
   "cell_type": "code",
   "execution_count": null,
   "id": "0fc1bfb1",
   "metadata": {},
   "outputs": [],
   "source": [
    "# try multiplying  column vector * matrix\n",
    "col @ B"
   ]
  },
  {
   "cell_type": "code",
   "execution_count": null,
   "id": "14ed3c8e",
   "metadata": {},
   "outputs": [],
   "source": [
    "# try multiplying  column vector * matrix\n",
    "np.dot(col, B)"
   ]
  },
  {
   "cell_type": "code",
   "execution_count": null,
   "id": "e6f038c1",
   "metadata": {},
   "outputs": [],
   "source": [
    "# you can transpose, e.g.\n",
    "A, A.T, col, col.T"
   ]
  },
  {
   "cell_type": "code",
   "execution_count": null,
   "id": "9579ed15",
   "metadata": {},
   "outputs": [],
   "source": [
    "# With the transpose we can avoid row vectors, for instance\n",
    "B@col, col.T@A"
   ]
  },
  {
   "cell_type": "code",
   "execution_count": null,
   "id": "15ed9085",
   "metadata": {},
   "outputs": [],
   "source": [
    "# ATTENTION: the standard multiplication operator * is extended to arrays\n",
    "# This may give unexpected results, e.g.\n",
    "row*B*col  # not a real number"
   ]
  },
  {
   "cell_type": "code",
   "execution_count": null,
   "id": "58e1eacf",
   "metadata": {},
   "outputs": [],
   "source": [
    "# but, with the operator @ (instead of *), we get the correct result\n",
    "val = row @ B @ col\n",
    "print(val, val.shape, val[0,0], float(val))\n",
    "print(row)\n",
    "print(row[0,:])\n",
    "print(row[0])\n",
    "print(col)\n",
    "print(col[:,0])\n",
    "#print(col[0]) % mal\n",
    "print( row[0,:]@B@col[:,0] )\n",
    "#col[:,0].shape"
   ]
  },
  {
   "cell_type": "code",
   "execution_count": null,
   "id": "63fc2b1f",
   "metadata": {},
   "outputs": [],
   "source": [
    "B, col, B*col # not a vector (python automatic extension)"
   ]
  },
  {
   "cell_type": "code",
   "execution_count": null,
   "id": "f83616c6",
   "metadata": {},
   "outputs": [],
   "source": [
    "A*row # mathematically not defined, but no error."
   ]
  },
  {
   "cell_type": "code",
   "execution_count": null,
   "id": "d60d955e",
   "metadata": {},
   "outputs": [],
   "source": [
    "# but, a the mathematatical operation cannot be performed, e.g.\n",
    "A@row"
   ]
  },
  {
   "cell_type": "code",
   "execution_count": null,
   "id": "380ab424",
   "metadata": {},
   "outputs": [],
   "source": [
    "# define a small matrix 3x4, each row goes in like an array.\n",
    "W = np.array([[3,4,-1, 0],[2,1,3.5,-3],[1,2,1,4]])\n",
    "W, print(W)"
   ]
  },
  {
   "cell_type": "code",
   "execution_count": null,
   "id": "32f8eb82",
   "metadata": {},
   "outputs": [],
   "source": [
    "# the shape of an array\n",
    "print(W.shape)                  # 2-dim. array\n",
    "print(np.array([1,2,3]).shape)  # 1-Dim. array"
   ]
  },
  {
   "cell_type": "code",
   "execution_count": null,
   "id": "b5731430",
   "metadata": {},
   "outputs": [],
   "source": [
    "# define a matrix and get the second column and the third row\n",
    "# note: python starts counting with 0\n",
    "# note: the shape of an extracted column has only one entry and transposition has no effect.\n",
    "#       Therefore, the result is flexible in a @-operation, i.e., it can be used as column or row vector.\n",
    "C = np.diag([1,2,3,4])\n",
    "C, C[:,1], C[:,1].shape, C[:,1].T, C[2,:], C[2,:].shape"
   ]
  },
  {
   "cell_type": "code",
   "execution_count": null,
   "id": "2c049be7",
   "metadata": {},
   "outputs": [],
   "source": [
    "# if you desperately want a column\n",
    "np.array( [ C[:,1] ] ).T\n",
    "#C[:,1][:,np.newaxis]   # tambien funciona, pero es menos leible."
   ]
  },
  {
   "cell_type": "code",
   "execution_count": null,
   "id": "1d30fe13",
   "metadata": {},
   "outputs": [],
   "source": [
    "# define matrices of zeros and ones\n",
    "zs = np.zeros([8,7])\n",
    "# change an element\n",
    "zs[6,1] = 4  # renglon 7, col.2, valor 4\n",
    "# overwrite a part of the matrix\n",
    "zs[1:4,2:6] = W\n",
    "zs, zs.shape"
   ]
  },
  {
   "cell_type": "code",
   "execution_count": null,
   "id": "f5d653ac",
   "metadata": {},
   "outputs": [],
   "source": [
    "# an identity matrix\n",
    "np.eye(5)"
   ]
  },
  {
   "cell_type": "code",
   "execution_count": null,
   "id": "893f049e",
   "metadata": {},
   "outputs": [],
   "source": [
    "# ones\n",
    "os = np.ones((6,9))\n",
    "os"
   ]
  },
  {
   "cell_type": "code",
   "execution_count": null,
   "id": "36ecc651",
   "metadata": {},
   "outputs": [],
   "source": [
    "# extract lower-triangular part, 0 with diagonal, -1 without diagonal, -2, without first subdiagonal\n",
    "np.tril(os, -1)"
   ]
  },
  {
   "cell_type": "code",
   "execution_count": null,
   "id": "1e5727c3",
   "metadata": {},
   "outputs": [],
   "source": [
    "# extract upper-triangular part, 0 with diagonal, 1 without diagonal, 2, without first superdiagonal\n",
    "np.triu(os,1)"
   ]
  },
  {
   "cell_type": "code",
   "execution_count": null,
   "id": "7fdedcb3",
   "metadata": {},
   "outputs": [],
   "source": [
    "np.vstack( (np.ones((1,5)), np.zeros((1,5))) )\n",
    "#np.array( [np.ones((1,5)), np.zeros((1,5))] ).shape  # en python esto causa 3 dimensiones, en matlab da una matriz"
   ]
  },
  {
   "cell_type": "code",
   "execution_count": null,
   "id": "377bfdb4",
   "metadata": {},
   "outputs": [],
   "source": [
    "np.vstack( (np.ones(5), np.zeros(5)) )"
   ]
  },
  {
   "cell_type": "code",
   "execution_count": null,
   "id": "3fe53ac9",
   "metadata": {},
   "outputs": [],
   "source": [
    "np.hstack( (np.ones(5), np.zeros(5)) )"
   ]
  },
  {
   "cell_type": "code",
   "execution_count": null,
   "id": "68fa597a",
   "metadata": {},
   "outputs": [],
   "source": []
  }
 ],
 "metadata": {
  "jupytext": {
   "formats": "ipynb,md",
   "text_representation": {
    "extension": ".md",
    "format_name": "markdown",
    "format_version": "1.3",
    "jupytext_version": "1.13.5"
   }
  },
  "kernelspec": {
   "display_name": "base",
   "language": "python",
   "name": "python3"
  },
  "language_info": {
   "codemirror_mode": {
    "name": "ipython",
    "version": 3
   },
   "file_extension": ".py",
   "mimetype": "text/x-python",
   "name": "python",
   "nbconvert_exporter": "python",
   "pygments_lexer": "ipython3",
   "version": "3.9.12"
  },
  "vscode": {
   "interpreter": {
    "hash": "19d1d53a962d236aa061289c2ac16dc8e6d9648c89fe79f459ae9a3493bc67b4"
   }
  }
 },
 "nbformat": 4,
 "nbformat_minor": 5
}
