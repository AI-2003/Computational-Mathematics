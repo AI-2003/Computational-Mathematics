{
 "cells": [
  {
   "cell_type": "code",
   "execution_count": 14,
   "id": "f421623f",
   "metadata": {},
   "outputs": [],
   "source": [
    "import numpy as np\n",
    "\n",
    "def rTrap( f, I ):\n",
    "    a, b = I\n",
    "    return  0.5*(b-a)*(f(a) + f(b))\n",
    "\n",
    "def rPMed( f, I ):\n",
    "    a, b = I\n",
    "    return  (b-a)*f( 0.5*(a+b) )\n",
    "\n",
    "def rSimpson( f, I ):\n",
    "    a, b = I\n",
    "    return  (b-a)*(f(a) + 4*f( 0.5*(a+b) ) + f(b))/6\n",
    "\n",
    "    "
   ]
  },
  {
   "cell_type": "code",
   "execution_count": 10,
   "id": "eb266e24",
   "metadata": {},
   "outputs": [
    {
     "name": "stdout",
     "output_type": "stream",
     "text": [
      "1 2\n"
     ]
    }
   ],
   "source": [
    "a,b = [1,2]\n",
    "a,b = (1,2)\n",
    "a,b = np.array([1,2])\n",
    "print(a,b)"
   ]
  },
  {
   "cell_type": "code",
   "execution_count": 11,
   "id": "3cf8defb",
   "metadata": {},
   "outputs": [
    {
     "name": "stdout",
     "output_type": "stream",
     "text": [
      "val T  =  1.8591409142295225\n",
      "val PM =  1.6487212707001282\n",
      "val S  =  1.7188611518765928\n",
      "val ex =  1.718281828459045\n",
      "err T  =  -0.14085908577047745\n",
      "err PM =  0.0695605577589169\n",
      "err S  =  -0.0005793234175477391\n"
     ]
    }
   ],
   "source": [
    "I = [0,1]\n",
    "apT = rTrap( np.exp, I)\n",
    "apPM = rPMed( np.exp, I)\n",
    "apS = rSimpson( np.exp, I)\n",
    "exact = np.exp(I[-1]) - np.exp(I[0])\n",
    "print('val T  = ', apT)\n",
    "print('val PM = ', apPM)\n",
    "print('val S  = ', apS)\n",
    "print('val ex = ', exact)\n",
    "\n",
    "print('err T  = ',exact - apT)\n",
    "print('err PM = ', exact - apPM)\n",
    "print('err S  = ', exact-apS)\n",
    "\n"
   ]
  },
  {
   "cell_type": "code",
   "execution_count": 12,
   "id": "970f42fe",
   "metadata": {},
   "outputs": [
    {
     "name": "stdout",
     "output_type": "stream",
     "text": [
      "val T  =  0.25889424698079966\n",
      "val PM =  0.2585709659315845\n",
      "val S  =  0.2586787262813229\n",
      "val ex =  0.25867871730209524\n",
      "err T  =  -0.00021552967870441808\n",
      "err PM =  0.00010775137051072248\n",
      "err S  =  -8.979227639205334e-09\n"
     ]
    }
   ],
   "source": [
    "I = [0.9,1]\n",
    "apT = rTrap( np.exp, I)\n",
    "apPM = rPMed( np.exp, I)\n",
    "apS = rSimpson( np.exp, I)\n",
    "exact = np.exp(I[-1]) - np.exp(I[0])\n",
    "print('val T  = ', apT)\n",
    "print('val PM = ', apPM)\n",
    "print('val S  = ', apS)\n",
    "print('val ex = ', exact)\n",
    "\n",
    "print('err T  = ',exact - apT)\n",
    "print('err PM = ', exact - apPM)\n",
    "print('err S  = ', exact-apS)\n"
   ]
  },
  {
   "cell_type": "code",
   "execution_count": null,
   "id": "1194c2d1",
   "metadata": {},
   "outputs": [],
   "source": []
  },
  {
   "cell_type": "code",
   "execution_count": null,
   "id": "7e16c9cd",
   "metadata": {},
   "outputs": [],
   "source": []
  }
 ],
 "metadata": {
  "jupytext": {
   "formats": "ipynb,md"
  },
  "kernelspec": {
   "display_name": "Python 3 (ipykernel)",
   "language": "python",
   "name": "python3"
  },
  "language_info": {
   "codemirror_mode": {
    "name": "ipython",
    "version": 3
   },
   "file_extension": ".py",
   "mimetype": "text/x-python",
   "name": "python",
   "nbconvert_exporter": "python",
   "pygments_lexer": "ipython3",
   "version": "3.9.13"
  }
 },
 "nbformat": 4,
 "nbformat_minor": 5
}
