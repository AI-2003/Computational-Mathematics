{
 "cells": [
  {
   "cell_type": "markdown",
   "id": "9dad624b",
   "metadata": {},
   "source": [
    "# Some calculations"
   ]
  },
  {
   "cell_type": "code",
   "execution_count": null,
   "id": "32d81975",
   "metadata": {},
   "outputs": [],
   "source": [
    "10.0**16 - 10**16 +1"
   ]
  },
  {
   "cell_type": "code",
   "execution_count": null,
   "id": "2a39f65d",
   "metadata": {},
   "outputs": [],
   "source": [
    "10.0**210 * 10**(-30) * 10**100"
   ]
  },
  {
   "cell_type": "code",
   "execution_count": null,
   "id": "0a2b0505",
   "metadata": {},
   "outputs": [],
   "source": [
    "1.0 + 10**(-16) == 1.0"
   ]
  },
  {
   "cell_type": "code",
   "execution_count": null,
   "id": "944d060f",
   "metadata": {},
   "outputs": [],
   "source": [
    "c1 = 10.0**200\n",
    "c2 = 10.0**100\n",
    "(c1**2 + c2**2)"
   ]
  },
  {
   "cell_type": "markdown",
   "id": "4764296f",
   "metadata": {},
   "source": [
    "# Getting help or find something"
   ]
  },
  {
   "cell_type": "code",
   "execution_count": null,
   "id": "d5d943fb",
   "metadata": {},
   "outputs": [],
   "source": [
    "# get general introduction   DOCKER\n",
    "?"
   ]
  },
  {
   "cell_type": "code",
   "execution_count": null,
   "id": "5736bfd8",
   "metadata": {},
   "outputs": [],
   "source": [
    "# get help on a single known command.\n",
    "import numpy as np\n",
    "? np.random.normal"
   ]
  },
  {
   "cell_type": "code",
   "execution_count": null,
   "id": "4a3b3fe4",
   "metadata": {},
   "outputs": [],
   "source": [
    "# list available modules\n",
    "help( \"modules\" )"
   ]
  },
  {
   "cell_type": "code",
   "execution_count": null,
   "id": "0852842d",
   "metadata": {},
   "outputs": [],
   "source": [
    "# find modules whose describtion contains the word 'inverse'\n",
    "help('modules inverse')"
   ]
  },
  {
   "cell_type": "code",
   "execution_count": null,
   "id": "76daf137",
   "metadata": {},
   "outputs": [],
   "source": [
    "import numpy as np\n",
    "? np.random"
   ]
  },
  {
   "cell_type": "code",
   "execution_count": null,
   "id": "645131d5",
   "metadata": {},
   "outputs": [],
   "source": []
  }
 ],
 "metadata": {
  "jupytext": {
   "formats": "md,ipynb"
  },
  "kernelspec": {
   "display_name": "Python 3 (ipykernel)",
   "language": "python",
   "name": "python3"
  },
  "language_info": {
   "codemirror_mode": {
    "name": "ipython",
    "version": 3
   },
   "file_extension": ".py",
   "mimetype": "text/x-python",
   "name": "python",
   "nbconvert_exporter": "python",
   "pygments_lexer": "ipython3",
   "version": "3.9.5"
  }
 },
 "nbformat": 4,
 "nbformat_minor": 5
}
