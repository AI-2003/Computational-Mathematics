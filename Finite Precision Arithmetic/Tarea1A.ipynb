{
 "cells": [
  {
   "cell_type": "code",
   "execution_count": 146,
   "metadata": {},
   "outputs": [
    {
     "name": "stdout",
     "output_type": "stream",
     "text": [
      "(-6.12e+200, -8.169934640522876e-202)\n",
      "(-367779.9999999999, -5.655011147968896e-11)\n",
      "(None, None)\n"
     ]
    }
   ],
   "source": [
    "# 3 \n",
    "\n",
    "# Utiliza una equivalencia de la fórmula general para no tener que lidiar con efectos secundarios de overflow y cancelación\n",
    "def quadSolutions(a, b, c):\n",
    "    dif = (b/1e+100)**2-(4*a*c/1e+200)\n",
    "    if (dif >=0 ):\n",
    "        aux = 1e+100 * math.sqrt(dif)\n",
    "        x1 = (-b-aux) / (2*a)\n",
    "        x2 = (2*c) / (-b-aux)\n",
    "        return x1,x2\n",
    "    return None, None\n",
    "\n",
    "coefs = [(1, 6.12*10**200, 0.5), (1, 3.6778e+5, 2.0798e-5), (1, 0.7402, 25.13697401)]\n",
    "for i in coefs:\n",
    "    print(quadSolutions(*i))"
   ]
  },
  {
   "cell_type": "code",
   "execution_count": 147,
   "metadata": {},
   "outputs": [
    {
     "name": "stdout",
     "output_type": "stream",
     "text": [
      "(1.4142135623730951, 2.8284271247461903)\n",
      "(0.049082457045824326, 3.141277250932757)\n",
      "(0.006135913525937424, 3.141587725279961)\n",
      "(0.0007669903751330577, 3.1415925765450043)\n",
      "(9.58737989905156e-05, 3.1415926453212153)\n",
      "(1.198423051908566e-05, 3.141594125195191)\n",
      "(1.4980670285328662e-06, 3.1416742650217575)\n",
      "(0.0, 0.0)\n"
     ]
    }
   ],
   "source": [
    "# 6 a)\n",
    "\n",
    "# It can be mathematically proofed that s tends to pi\n",
    "# But this is an example of a bad algorithm, because precision is lost when calculating d\n",
    "def aproxPiIngenuo (n):\n",
    "    d = math.sqrt(2)\n",
    "    for j in range(n):\n",
    "        d = math.sqrt(2-math.sqrt(4-d**2))\n",
    "    s = 2**(n+1) * d\n",
    "    return d, s\n",
    "\n",
    "vals = [0,5,8,11,14,17,20,30]\n",
    "for i in vals:\n",
    "    print(aproxPiIngenuo(i))"
   ]
  },
  {
   "cell_type": "code",
   "execution_count": 148,
   "metadata": {},
   "outputs": [
    {
     "name": "stdout",
     "output_type": "stream",
     "text": [
      "(1.4142135623730951, 2.8284271247461903)\n",
      "(0.049082457045824576, 3.141277250932773)\n",
      "(0.006135913525931953, 3.14158772527716)\n",
      "(0.0007669903751427912, 3.141592576584873)\n",
      "(9.587379920613378e-05, 3.1415926523865916)\n",
      "(1.1984224905284858e-05, 3.141592653570994)\n",
      "(1.4980281131694321e-06, 3.141592653589501)\n",
      "(1.4629180792671605e-09, 3.141592653589795)\n"
     ]
    }
   ],
   "source": [
    "# 6 c)\n",
    "\n",
    "def aproxPi (n):\n",
    "    d = math.sqrt(2)\n",
    "    for i in range(n):\n",
    "        d = d/math.sqrt(2+math.sqrt(4-d**2))\n",
    "    s = 2**(n+1) * d\n",
    "    return d, s \n",
    "\n",
    "vals = [0,5,8,11,14,17,20,30]\n",
    "for i in vals:\n",
    "    print(aproxPi(i))"
   ]
  },
  {
   "cell_type": "code",
   "execution_count": 149,
   "metadata": {},
   "outputs": [
    {
     "name": "stdout",
     "output_type": "stream",
     "text": [
      "(1.4142135623730951, 2.8284271247461903)\n",
      "(0.049082457045824576, 3.141277250932773)\n",
      "(0.006135913525931953, 3.14158772527716)\n",
      "(0.0007669903751427912, 3.141592576584873)\n",
      "(9.587379920613378e-05, 3.1415926523865916)\n",
      "(1.1984224905284858e-05, 3.141592653570994)\n",
      "(1.4980281131694321e-06, 3.141592653589501)\n",
      "(1.4629180792671605e-09, 3.141592653589795)\n"
     ]
    }
   ],
   "source": [
    "# 6 d)\n",
    "\n",
    "def aproxPiErrRel (tol):\n",
    "    n = math.ceil(math.log( math.pi**2 / (96 * tol) ) / (2 * math.log(2)))\n",
    "    aproxPi(n)\n",
    "\n",
    "tols = [1,2,5,8,10,30]\n",
    "for i in vals:\n",
    "    print(aproxPi(i))"
   ]
  },
  {
   "cell_type": "code",
   "execution_count": null,
   "metadata": {},
   "outputs": [],
   "source": []
  }
 ],
 "metadata": {
  "kernelspec": {
   "display_name": "base",
   "language": "python",
   "name": "python3"
  },
  "language_info": {
   "codemirror_mode": {
    "name": "ipython",
    "version": 3
   },
   "file_extension": ".py",
   "mimetype": "text/x-python",
   "name": "python",
   "nbconvert_exporter": "python",
   "pygments_lexer": "ipython3",
   "version": "3.9.12"
  },
  "orig_nbformat": 4,
  "vscode": {
   "interpreter": {
    "hash": "19d1d53a962d236aa061289c2ac16dc8e6d9648c89fe79f459ae9a3493bc67b4"
   }
  }
 },
 "nbformat": 4,
 "nbformat_minor": 2
}
