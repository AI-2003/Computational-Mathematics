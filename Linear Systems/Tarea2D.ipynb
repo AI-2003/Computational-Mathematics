{
 "cells": [
  {
   "cell_type": "code",
   "execution_count": 1,
   "metadata": {},
   "outputs": [],
   "source": [
    "import numpy as np\n"
   ]
  },
  {
   "cell_type": "code",
   "execution_count": 198,
   "metadata": {},
   "outputs": [
    {
     "data": {
      "text/plain": [
       "array([[ 38.22645014,  15.84586707,  43.67326731],\n",
       "       [ 15.84586707,   8.11442896,  29.98875488],\n",
       "       [ 43.67326731,  29.98875488, 219.26477219]])"
      ]
     },
     "execution_count": 198,
     "metadata": {},
     "output_type": "execute_result"
    }
   ],
   "source": [
    "# Ej 3\n",
    "\n",
    "def matSimPosDef(n):\n",
    "    intervalo = [0,10]\n",
    "    mat = np.random.rand(n,n)\n",
    "    mat = np.tril((mat*intervalo[1])+intervalo[0], k=-1) + np.eye(n)*np.diag(mat*(intervalo[1]-1)+intervalo[0]+1)\n",
    "    mat = mat@mat.transpose()\n",
    "    return mat\n",
    "matSimPosDef(3)"
   ]
  },
  {
   "cell_type": "code",
   "execution_count": 247,
   "metadata": {},
   "outputs": [
    {
     "data": {
      "text/plain": [
       "(array([[9.43277409, 0.        , 0.        ],\n",
       "        [9.18264562, 1.3712782 , 0.        ],\n",
       "        [4.52842814, 3.41838493, 7.7265928 ]]),\n",
       " array([[9.43277409, 0.        , 0.        ],\n",
       "        [9.18264562, 1.3712782 , 0.        ],\n",
       "        [4.52842814, 3.41838493, 7.7265928 ]]))"
      ]
     },
     "execution_count": 247,
     "metadata": {},
     "output_type": "execute_result"
    }
   ],
   "source": [
    "# Ej 6\n",
    "\n",
    "def factCholesky(A):\n",
    "    L = np.tril(A)\n",
    "    n = np.shape(A)[0]\n",
    "    for s in range(n):\n",
    "        L[s,s] = np.sqrt(L[s,s])\n",
    "        L[s+1:, s] /= L[s,s]\n",
    "        h = np.append(np.zeros((s+1,1)), L[s+1:, s])\n",
    "        for j in range(s+1, n):\n",
    "            for i in range(j, n):\n",
    "                L[i,j] -= h[i]*h[j]\n",
    "    return L\n",
    "mat = matSimPosDef(3)\n",
    "factCholesky(mat), np.linalg.cholesky(mat)"
   ]
  },
  {
   "cell_type": "code",
   "execution_count": 219,
   "metadata": {},
   "outputs": [
    {
     "name": "stdout",
     "output_type": "stream",
     "text": [
      "[[1. 1. 1.]\n",
      " [2. 3. 4.]\n",
      " [5. 7. 9.]]\n",
      "[1. 1.]\n",
      "[0.5 0.5]\n",
      "[4.]\n",
      "[2.]\n",
      "[]\n",
      "[]\n"
     ]
    }
   ],
   "source": [
    "L = np.array(([1.0,1,1],[2,3,4],[5,7,9]))\n",
    "print(L)\n",
    "for s in range(len(L)):\n",
    "    print(L[s,s+1:])\n",
    "    L[s, s+1:] /= 2.0\n",
    "    print(L[s,s+1:])"
   ]
  },
  {
   "cell_type": "code",
   "execution_count": 248,
   "metadata": {},
   "outputs": [
    {
     "data": {
      "text/plain": [
       "(array([[4.52556041, 0.        , 0.        ],\n",
       "        [6.04612302, 2.43541929, 0.        ],\n",
       "        [8.18586237, 0.14463715, 4.80369197]]),\n",
       " array([[4.52556041, 0.        , 0.        ],\n",
       "        [6.04612302, 2.43541929, 0.        ],\n",
       "        [8.18586237, 0.14463715, 4.80369197]]))"
      ]
     },
     "execution_count": 248,
     "metadata": {},
     "output_type": "execute_result"
    }
   ],
   "source": [
    "# Ej 8\n",
    "\n",
    "def factCholeskyRen(A):\n",
    "    L = np.triu(A)\n",
    "    n = np.shape(A)[0]\n",
    "    for s in range(n):\n",
    "        L[s,s] = np.sqrt(L[s,s])\n",
    "        L[s, s+1:] /= L[s,s]\n",
    "        h = np.append(np.zeros(s+1), L[s, s+1:])\n",
    "        for i in range(s+1,n):\n",
    "            L[i, i:] -= h[i]*h[i:]\n",
    "    return L\n",
    "mat = matSimPosDef(3)\n",
    "factCholeskyRen(mat).transpose(), np.linalg.cholesky(mat)"
   ]
  },
  {
   "cell_type": "code",
   "execution_count": 250,
   "metadata": {},
   "outputs": [
    {
     "name": "stdout",
     "output_type": "stream",
     "text": [
      "87.6 µs ± 13 µs per loop (mean ± std. dev. of 7 runs, 10,000 loops each)\n",
      "110 µs ± 17.5 µs per loop (mean ± std. dev. of 7 runs, 10,000 loops each)\n"
     ]
    }
   ],
   "source": [
    "# Slower ???\n",
    "mat = matSimPosDef(5)\n",
    "%timeit factCholesky(mat)\n",
    "%timeit factCholeskyRen(mat)"
   ]
  }
 ],
 "metadata": {
  "kernelspec": {
   "display_name": "base",
   "language": "python",
   "name": "python3"
  },
  "language_info": {
   "codemirror_mode": {
    "name": "ipython",
    "version": 3
   },
   "file_extension": ".py",
   "mimetype": "text/x-python",
   "name": "python",
   "nbconvert_exporter": "python",
   "pygments_lexer": "ipython3",
   "version": "3.9.13"
  },
  "orig_nbformat": 4
 },
 "nbformat": 4,
 "nbformat_minor": 2
}
