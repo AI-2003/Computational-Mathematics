{
 "cells": [
  {
   "attachments": {},
   "cell_type": "markdown",
   "metadata": {},
   "source": [
    "Computational Mathematics - Solution to Homework 2"
   ]
  },
  {
   "attachments": {},
   "cell_type": "markdown",
   "metadata": {},
   "source": [
    "1)\n",
    "\n",
    "    Develop pseudocodes, analogous to those in Fig. 3.5, for row–oriented and column–\n",
    "    oriented methods of solving the following linear system of order 3\n",
    "\n",
    "    a1,1 x1 + a1,2 x2 + a1,3 x3 = b1\n",
    "    a2,1 x1 + a2,2 x2           = b2\n",
    "    a3,1 x1                     = b3"
   ]
  },
  {
   "cell_type": "code",
   "execution_count": 1,
   "metadata": {},
   "outputs": [
    {
     "name": "stdout",
     "output_type": "stream",
     "text": [
      "[[1, 2, 3], [4, 5, 0], [6, 0, 0]]\n"
     ]
    }
   ],
   "source": [
    "mat = [[1,2,3],[4,5,0],[6,0,0]]\n",
    "print(mat)"
   ]
  },
  {
   "cell_type": "code",
   "execution_count": 89,
   "metadata": {},
   "outputs": [
    {
     "name": "stdout",
     "output_type": "stream",
     "text": [
      "[[ 0.10177989 -0.13095955  1.        ]\n",
      " [-0.40618661  2.          0.        ]\n",
      " [ 3.          0.          0.        ]] [1. 1. 1.]\n"
     ]
    },
    {
     "data": {
      "text/plain": [
       "(array([0.33333333, 0.56769777, 1.04041881]),\n",
       " array([1.97082034, 2.59381339, 4.        ]))"
      ]
     },
     "execution_count": 89,
     "metadata": {},
     "output_type": "execute_result"
    }
   ],
   "source": [
    "# Ej. 1\n",
    "\n",
    "mat, b = getUb(3)\n",
    "mat = np.flip(mat,1)\n",
    "print(mat, b)\n",
    "\n",
    "def solveByRow(mat, b):\n",
    "    m, n = mat.shape\n",
    "    m2  = len(b)\n",
    "    assert( m==m2 and m==n )\n",
    "\n",
    "    x = b.copy()\n",
    "    for i in reversed(range(n)):\n",
    "        x[n-i-1] -= np.dot(x[:n-i-1], mat[i,:n-i-1])\n",
    "        x[n-i-1] /= mat[i,n-i-1]\n",
    "    return x\n",
    "\n",
    "def solveByColumn(mat, b):\n",
    "    m, n = mat.shape\n",
    "    m2  = len(b)\n",
    "    assert( m==m2 and m==n )\n",
    "\n",
    "    x = b.copy()\n",
    "    for j in range(m):\n",
    "        x += mat[:,j]\n",
    "    return x\n",
    "\n",
    "solveByRow(mat, b), solveByColumn(mat, b)"
   ]
  },
  {
   "cell_type": "code",
   "execution_count": 13,
   "metadata": {},
   "outputs": [],
   "source": [
    "# Ej. 4\n",
    "\n",
    "import numpy as np\n",
    "\n",
    "def getUb (n):\n",
    "    U = np.triu(np.random.rand(n,n)-0.5, 1) + np.diag(np.arange(1,n+1))\n",
    "    b = np.ones(n)\n",
    "    return U, b"
   ]
  },
  {
   "cell_type": "code",
   "execution_count": 137,
   "metadata": {},
   "outputs": [],
   "source": [
    "#Ej. 5\n",
    "\n",
    "def solveUrow (U,b):\n",
    "    m,n = U.shape\n",
    "    m2 = len(b)\n",
    "    assert(m == m2 and m == n), 'System and right-hand-side are not compatible.'\n",
    "    x = b.copy()\n",
    "    for i in reversed(range(n)):\n",
    "        for j in range(i+1,n):\n",
    "            x[i] -= x[j]*U[i,j]\n",
    "        x[i] /= U[i,i]\n",
    "    return x"
   ]
  },
  {
   "cell_type": "code",
   "execution_count": null,
   "metadata": {},
   "outputs": [],
   "source": []
  }
 ],
 "metadata": {
  "kernelspec": {
   "display_name": "base",
   "language": "python",
   "name": "python3"
  },
  "language_info": {
   "codemirror_mode": {
    "name": "ipython",
    "version": 3
   },
   "file_extension": ".py",
   "mimetype": "text/x-python",
   "name": "python",
   "nbconvert_exporter": "python",
   "pygments_lexer": "ipython3",
   "version": "3.9.12 (main, Apr  4 2022, 05:22:27) [MSC v.1916 64 bit (AMD64)]"
  },
  "orig_nbformat": 4,
  "vscode": {
   "interpreter": {
    "hash": "19d1d53a962d236aa061289c2ac16dc8e6d9648c89fe79f459ae9a3493bc67b4"
   }
  }
 },
 "nbformat": 4,
 "nbformat_minor": 2
}
